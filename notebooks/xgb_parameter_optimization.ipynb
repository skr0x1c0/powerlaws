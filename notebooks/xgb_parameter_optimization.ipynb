{
 "cells": [
  {
   "cell_type": "code",
   "execution_count": 1,
   "metadata": {},
   "outputs": [],
   "source": [
    "import os\n",
    "import sys\n",
    "\n",
    "sys.path.insert(0, '../')"
   ]
  },
  {
   "cell_type": "code",
   "execution_count": 2,
   "metadata": {},
   "outputs": [
    {
     "name": "stderr",
     "output_type": "stream",
     "text": [
      "/Users/sreejithkrishnanr/Tools/anaconda3/lib/python3.6/site-packages/h5py/__init__.py:36: FutureWarning: Conversion of the second argument of issubdtype from `float` to `np.floating` is deprecated. In future, it will be treated as `np.float64 == np.dtype(float).type`.\n",
      "  from ._conv import register_converters as _register_converters\n",
      "Using TensorFlow backend.\n"
     ]
    }
   ],
   "source": [
    "import pandas as pd\n",
    "import numpy as np\n",
    "\n",
    "from src.models.model_common import select_features"
   ]
  },
  {
   "cell_type": "code",
   "execution_count": 3,
   "metadata": {},
   "outputs": [
    {
     "ename": "KeyboardInterrupt",
     "evalue": "",
     "output_type": "error",
     "traceback": [
      "\u001b[0;31m---------------------------------------------------------------------------\u001b[0m",
      "\u001b[0;31mKeyboardInterrupt\u001b[0m                         Traceback (most recent call last)",
      "\u001b[0;32m<ipython-input-3-0ad20f455f6d>\u001b[0m in \u001b[0;36m<module>\u001b[0;34m()\u001b[0m\n\u001b[0;32m----> 1\u001b[0;31m \u001b[0mtrain_data\u001b[0m \u001b[0;34m=\u001b[0m \u001b[0mpd\u001b[0m\u001b[0;34m.\u001b[0m\u001b[0mread_csv\u001b[0m\u001b[0;34m(\u001b[0m\u001b[0;34m'../data/processed/train_900000000000.csv'\u001b[0m\u001b[0;34m,\u001b[0m \u001b[0mparse_dates\u001b[0m\u001b[0;34m=\u001b[0m\u001b[0;34m[\u001b[0m\u001b[0;36m1\u001b[0m\u001b[0;34m]\u001b[0m\u001b[0;34m)\u001b[0m\u001b[0;34m\u001b[0m\u001b[0m\n\u001b[0m",
      "\u001b[0;32m~/Tools/anaconda3/lib/python3.6/site-packages/pandas/io/parsers.py\u001b[0m in \u001b[0;36mparser_f\u001b[0;34m(filepath_or_buffer, sep, delimiter, header, names, index_col, usecols, squeeze, prefix, mangle_dupe_cols, dtype, engine, converters, true_values, false_values, skipinitialspace, skiprows, nrows, na_values, keep_default_na, na_filter, verbose, skip_blank_lines, parse_dates, infer_datetime_format, keep_date_col, date_parser, dayfirst, iterator, chunksize, compression, thousands, decimal, lineterminator, quotechar, quoting, escapechar, comment, encoding, dialect, tupleize_cols, error_bad_lines, warn_bad_lines, skipfooter, skip_footer, doublequote, delim_whitespace, as_recarray, compact_ints, use_unsigned, low_memory, buffer_lines, memory_map, float_precision)\u001b[0m\n\u001b[1;32m    707\u001b[0m                     skip_blank_lines=skip_blank_lines)\n\u001b[1;32m    708\u001b[0m \u001b[0;34m\u001b[0m\u001b[0m\n\u001b[0;32m--> 709\u001b[0;31m         \u001b[0;32mreturn\u001b[0m \u001b[0m_read\u001b[0m\u001b[0;34m(\u001b[0m\u001b[0mfilepath_or_buffer\u001b[0m\u001b[0;34m,\u001b[0m \u001b[0mkwds\u001b[0m\u001b[0;34m)\u001b[0m\u001b[0;34m\u001b[0m\u001b[0m\n\u001b[0m\u001b[1;32m    710\u001b[0m \u001b[0;34m\u001b[0m\u001b[0m\n\u001b[1;32m    711\u001b[0m     \u001b[0mparser_f\u001b[0m\u001b[0;34m.\u001b[0m\u001b[0m__name__\u001b[0m \u001b[0;34m=\u001b[0m \u001b[0mname\u001b[0m\u001b[0;34m\u001b[0m\u001b[0m\n",
      "\u001b[0;32m~/Tools/anaconda3/lib/python3.6/site-packages/pandas/io/parsers.py\u001b[0m in \u001b[0;36m_read\u001b[0;34m(filepath_or_buffer, kwds)\u001b[0m\n\u001b[1;32m    453\u001b[0m \u001b[0;34m\u001b[0m\u001b[0m\n\u001b[1;32m    454\u001b[0m     \u001b[0;32mtry\u001b[0m\u001b[0;34m:\u001b[0m\u001b[0;34m\u001b[0m\u001b[0m\n\u001b[0;32m--> 455\u001b[0;31m         \u001b[0mdata\u001b[0m \u001b[0;34m=\u001b[0m \u001b[0mparser\u001b[0m\u001b[0;34m.\u001b[0m\u001b[0mread\u001b[0m\u001b[0;34m(\u001b[0m\u001b[0mnrows\u001b[0m\u001b[0;34m)\u001b[0m\u001b[0;34m\u001b[0m\u001b[0m\n\u001b[0m\u001b[1;32m    456\u001b[0m     \u001b[0;32mfinally\u001b[0m\u001b[0;34m:\u001b[0m\u001b[0;34m\u001b[0m\u001b[0m\n\u001b[1;32m    457\u001b[0m         \u001b[0mparser\u001b[0m\u001b[0;34m.\u001b[0m\u001b[0mclose\u001b[0m\u001b[0;34m(\u001b[0m\u001b[0;34m)\u001b[0m\u001b[0;34m\u001b[0m\u001b[0m\n",
      "\u001b[0;32m~/Tools/anaconda3/lib/python3.6/site-packages/pandas/io/parsers.py\u001b[0m in \u001b[0;36mread\u001b[0;34m(self, nrows)\u001b[0m\n\u001b[1;32m   1067\u001b[0m                 \u001b[0;32mraise\u001b[0m \u001b[0mValueError\u001b[0m\u001b[0;34m(\u001b[0m\u001b[0;34m'skipfooter not supported for iteration'\u001b[0m\u001b[0;34m)\u001b[0m\u001b[0;34m\u001b[0m\u001b[0m\n\u001b[1;32m   1068\u001b[0m \u001b[0;34m\u001b[0m\u001b[0m\n\u001b[0;32m-> 1069\u001b[0;31m         \u001b[0mret\u001b[0m \u001b[0;34m=\u001b[0m \u001b[0mself\u001b[0m\u001b[0;34m.\u001b[0m\u001b[0m_engine\u001b[0m\u001b[0;34m.\u001b[0m\u001b[0mread\u001b[0m\u001b[0;34m(\u001b[0m\u001b[0mnrows\u001b[0m\u001b[0;34m)\u001b[0m\u001b[0;34m\u001b[0m\u001b[0m\n\u001b[0m\u001b[1;32m   1070\u001b[0m \u001b[0;34m\u001b[0m\u001b[0m\n\u001b[1;32m   1071\u001b[0m         \u001b[0;32mif\u001b[0m \u001b[0mself\u001b[0m\u001b[0;34m.\u001b[0m\u001b[0moptions\u001b[0m\u001b[0;34m.\u001b[0m\u001b[0mget\u001b[0m\u001b[0;34m(\u001b[0m\u001b[0;34m'as_recarray'\u001b[0m\u001b[0;34m)\u001b[0m\u001b[0;34m:\u001b[0m\u001b[0;34m\u001b[0m\u001b[0m\n",
      "\u001b[0;32m~/Tools/anaconda3/lib/python3.6/site-packages/pandas/io/parsers.py\u001b[0m in \u001b[0;36mread\u001b[0;34m(self, nrows)\u001b[0m\n\u001b[1;32m   1837\u001b[0m     \u001b[0;32mdef\u001b[0m \u001b[0mread\u001b[0m\u001b[0;34m(\u001b[0m\u001b[0mself\u001b[0m\u001b[0;34m,\u001b[0m \u001b[0mnrows\u001b[0m\u001b[0;34m=\u001b[0m\u001b[0;32mNone\u001b[0m\u001b[0;34m)\u001b[0m\u001b[0;34m:\u001b[0m\u001b[0;34m\u001b[0m\u001b[0m\n\u001b[1;32m   1838\u001b[0m         \u001b[0;32mtry\u001b[0m\u001b[0;34m:\u001b[0m\u001b[0;34m\u001b[0m\u001b[0m\n\u001b[0;32m-> 1839\u001b[0;31m             \u001b[0mdata\u001b[0m \u001b[0;34m=\u001b[0m \u001b[0mself\u001b[0m\u001b[0;34m.\u001b[0m\u001b[0m_reader\u001b[0m\u001b[0;34m.\u001b[0m\u001b[0mread\u001b[0m\u001b[0;34m(\u001b[0m\u001b[0mnrows\u001b[0m\u001b[0;34m)\u001b[0m\u001b[0;34m\u001b[0m\u001b[0m\n\u001b[0m\u001b[1;32m   1840\u001b[0m         \u001b[0;32mexcept\u001b[0m \u001b[0mStopIteration\u001b[0m\u001b[0;34m:\u001b[0m\u001b[0;34m\u001b[0m\u001b[0m\n\u001b[1;32m   1841\u001b[0m             \u001b[0;32mif\u001b[0m \u001b[0mself\u001b[0m\u001b[0;34m.\u001b[0m\u001b[0m_first_chunk\u001b[0m\u001b[0;34m:\u001b[0m\u001b[0;34m\u001b[0m\u001b[0m\n",
      "\u001b[0;32mpandas/_libs/parsers.pyx\u001b[0m in \u001b[0;36mpandas._libs.parsers.TextReader.read\u001b[0;34m()\u001b[0m\n",
      "\u001b[0;32mpandas/_libs/parsers.pyx\u001b[0m in \u001b[0;36mpandas._libs.parsers.TextReader._read_low_memory\u001b[0;34m()\u001b[0m\n",
      "\u001b[0;32mpandas/_libs/parsers.pyx\u001b[0m in \u001b[0;36mpandas._libs.parsers.TextReader._read_rows\u001b[0;34m()\u001b[0m\n",
      "\u001b[0;32mpandas/_libs/parsers.pyx\u001b[0m in \u001b[0;36mpandas._libs.parsers.TextReader._convert_column_data\u001b[0;34m()\u001b[0m\n",
      "\u001b[0;32mpandas/_libs/parsers.pyx\u001b[0m in \u001b[0;36mpandas._libs.parsers.TextReader._convert_tokens\u001b[0;34m()\u001b[0m\n",
      "\u001b[0;32mpandas/_libs/parsers.pyx\u001b[0m in \u001b[0;36mpandas._libs.parsers.TextReader._convert_with_dtype\u001b[0;34m()\u001b[0m\n",
      "\u001b[0;32m~/Tools/anaconda3/lib/python3.6/site-packages/pandas/core/dtypes/common.py\u001b[0m in \u001b[0;36mis_integer_dtype\u001b[0;34m(arr_or_dtype)\u001b[0m\n\u001b[1;32m    775\u001b[0m \u001b[0;34m\u001b[0m\u001b[0m\n\u001b[1;32m    776\u001b[0m \u001b[0;34m\u001b[0m\u001b[0m\n\u001b[0;32m--> 777\u001b[0;31m \u001b[0;32mdef\u001b[0m \u001b[0mis_integer_dtype\u001b[0m\u001b[0;34m(\u001b[0m\u001b[0marr_or_dtype\u001b[0m\u001b[0;34m)\u001b[0m\u001b[0;34m:\u001b[0m\u001b[0;34m\u001b[0m\u001b[0m\n\u001b[0m\u001b[1;32m    778\u001b[0m     \"\"\"\n\u001b[1;32m    779\u001b[0m     \u001b[0mCheck\u001b[0m \u001b[0mwhether\u001b[0m \u001b[0mthe\u001b[0m \u001b[0mprovided\u001b[0m \u001b[0marray\u001b[0m \u001b[0;32mor\u001b[0m \u001b[0mdtype\u001b[0m \u001b[0;32mis\u001b[0m \u001b[0mof\u001b[0m \u001b[0man\u001b[0m \u001b[0minteger\u001b[0m \u001b[0mdtype\u001b[0m\u001b[0;34m.\u001b[0m\u001b[0;34m\u001b[0m\u001b[0m\n",
      "\u001b[0;31mKeyboardInterrupt\u001b[0m: "
     ]
    }
   ],
   "source": [
    "train_data = pd.read_csv('../data/processed/train_900000000000.csv', parse_dates=[1])"
   ]
  },
  {
   "cell_type": "code",
   "execution_count": 97,
   "metadata": {},
   "outputs": [
    {
     "data": {
      "text/html": [
       "<div>\n",
       "<style scoped>\n",
       "    .dataframe tbody tr th:only-of-type {\n",
       "        vertical-align: middle;\n",
       "    }\n",
       "\n",
       "    .dataframe tbody tr th {\n",
       "        vertical-align: top;\n",
       "    }\n",
       "\n",
       "    .dataframe thead th {\n",
       "        text-align: right;\n",
       "    }\n",
       "</style>\n",
       "<table border=\"1\" class=\"dataframe\">\n",
       "  <thead>\n",
       "    <tr style=\"text-align: right;\">\n",
       "      <th></th>\n",
       "      <th>ForecastId</th>\n",
       "      <th>Timestamp</th>\n",
       "      <th>obs_id</th>\n",
       "      <th>SiteId</th>\n",
       "      <th>Value</th>\n",
       "      <th>Frequency</th>\n",
       "      <th>DayOfMonth</th>\n",
       "      <th>DayOfWeek</th>\n",
       "      <th>DayOfYear</th>\n",
       "      <th>DaysInMonth</th>\n",
       "      <th>...</th>\n",
       "      <th>ConsumptionPerSurfaceArea</th>\n",
       "      <th>ConsumptionPerTemperatureDiff</th>\n",
       "      <th>ConsumptionDailyMeanPerSurfaceArea</th>\n",
       "      <th>ConsumptionDailyMeanPerTemperatureDiff</th>\n",
       "      <th>ConsumptionWeeklyMeanPerSurfaceArea</th>\n",
       "      <th>ConsumptionWeeklyMeanPerTemperatureDiff</th>\n",
       "      <th>ConsumptionBiWeeklyMeanPerSurfaceArea</th>\n",
       "      <th>ConsumptionBiWeeklyMeanPerTemperatureDiff</th>\n",
       "      <th>ConsumptionMonthlyMeanPerSurfaceArea</th>\n",
       "      <th>ConsumptionMonthlyMeanPerTemperatureDiff</th>\n",
       "    </tr>\n",
       "  </thead>\n",
       "  <tbody>\n",
       "    <tr>\n",
       "      <th>797228</th>\n",
       "      <td>981</td>\n",
       "      <td>2015-02-06 12:15:00</td>\n",
       "      <td>3787750</td>\n",
       "      <td>34</td>\n",
       "      <td>672.675350</td>\n",
       "      <td>9.000000e+11</td>\n",
       "      <td>6</td>\n",
       "      <td>4</td>\n",
       "      <td>37</td>\n",
       "      <td>28</td>\n",
       "      <td>...</td>\n",
       "      <td>0.360</td>\n",
       "      <td>3.383509</td>\n",
       "      <td>0.49625</td>\n",
       "      <td>4.664073</td>\n",
       "      <td>0.133073</td>\n",
       "      <td>1.250704</td>\n",
       "      <td>0.100208</td>\n",
       "      <td>0.941822</td>\n",
       "      <td>0.086917</td>\n",
       "      <td>0.816898</td>\n",
       "    </tr>\n",
       "    <tr>\n",
       "      <th>797229</th>\n",
       "      <td>981</td>\n",
       "      <td>2015-02-06 12:30:00</td>\n",
       "      <td>4774117</td>\n",
       "      <td>34</td>\n",
       "      <td>663.332636</td>\n",
       "      <td>9.000000e+11</td>\n",
       "      <td>6</td>\n",
       "      <td>4</td>\n",
       "      <td>37</td>\n",
       "      <td>28</td>\n",
       "      <td>...</td>\n",
       "      <td>0.355</td>\n",
       "      <td>3.384350</td>\n",
       "      <td>0.49625</td>\n",
       "      <td>4.730940</td>\n",
       "      <td>0.133073</td>\n",
       "      <td>1.268635</td>\n",
       "      <td>0.100208</td>\n",
       "      <td>0.955324</td>\n",
       "      <td>0.086917</td>\n",
       "      <td>0.828610</td>\n",
       "    </tr>\n",
       "    <tr>\n",
       "      <th>797230</th>\n",
       "      <td>981</td>\n",
       "      <td>2015-02-06 12:45:00</td>\n",
       "      <td>6987358</td>\n",
       "      <td>34</td>\n",
       "      <td>4690.042021</td>\n",
       "      <td>9.000000e+11</td>\n",
       "      <td>6</td>\n",
       "      <td>4</td>\n",
       "      <td>37</td>\n",
       "      <td>28</td>\n",
       "      <td>...</td>\n",
       "      <td>2.510</td>\n",
       "      <td>23.758777</td>\n",
       "      <td>0.49625</td>\n",
       "      <td>4.697328</td>\n",
       "      <td>0.133073</td>\n",
       "      <td>1.259621</td>\n",
       "      <td>0.100208</td>\n",
       "      <td>0.948537</td>\n",
       "      <td>0.086917</td>\n",
       "      <td>0.822723</td>\n",
       "    </tr>\n",
       "    <tr>\n",
       "      <th>797231</th>\n",
       "      <td>981</td>\n",
       "      <td>2015-02-06 13:00:00</td>\n",
       "      <td>5148673</td>\n",
       "      <td>34</td>\n",
       "      <td>625.961784</td>\n",
       "      <td>9.000000e+11</td>\n",
       "      <td>6</td>\n",
       "      <td>4</td>\n",
       "      <td>37</td>\n",
       "      <td>28</td>\n",
       "      <td>...</td>\n",
       "      <td>0.335</td>\n",
       "      <td>3.148543</td>\n",
       "      <td>0.49625</td>\n",
       "      <td>4.664073</td>\n",
       "      <td>0.133073</td>\n",
       "      <td>1.250704</td>\n",
       "      <td>0.100208</td>\n",
       "      <td>0.941822</td>\n",
       "      <td>0.086917</td>\n",
       "      <td>0.816898</td>\n",
       "    </tr>\n",
       "    <tr>\n",
       "      <th>797232</th>\n",
       "      <td>981</td>\n",
       "      <td>2015-02-06 13:15:00</td>\n",
       "      <td>4718014</td>\n",
       "      <td>34</td>\n",
       "      <td>616.619070</td>\n",
       "      <td>9.000000e+11</td>\n",
       "      <td>6</td>\n",
       "      <td>4</td>\n",
       "      <td>37</td>\n",
       "      <td>28</td>\n",
       "      <td>...</td>\n",
       "      <td>0.330</td>\n",
       "      <td>3.123664</td>\n",
       "      <td>0.49625</td>\n",
       "      <td>4.697328</td>\n",
       "      <td>0.133073</td>\n",
       "      <td>1.259621</td>\n",
       "      <td>0.100208</td>\n",
       "      <td>0.948537</td>\n",
       "      <td>0.086917</td>\n",
       "      <td>0.822723</td>\n",
       "    </tr>\n",
       "  </tbody>\n",
       "</table>\n",
       "<p>5 rows × 81 columns</p>\n",
       "</div>"
      ],
      "text/plain": [
       "        ForecastId           Timestamp   obs_id  SiteId        Value  \\\n",
       "797228         981 2015-02-06 12:15:00  3787750      34   672.675350   \n",
       "797229         981 2015-02-06 12:30:00  4774117      34   663.332636   \n",
       "797230         981 2015-02-06 12:45:00  6987358      34  4690.042021   \n",
       "797231         981 2015-02-06 13:00:00  5148673      34   625.961784   \n",
       "797232         981 2015-02-06 13:15:00  4718014      34   616.619070   \n",
       "\n",
       "           Frequency  DayOfMonth  DayOfWeek  DayOfYear  DaysInMonth  \\\n",
       "797228  9.000000e+11           6          4         37           28   \n",
       "797229  9.000000e+11           6          4         37           28   \n",
       "797230  9.000000e+11           6          4         37           28   \n",
       "797231  9.000000e+11           6          4         37           28   \n",
       "797232  9.000000e+11           6          4         37           28   \n",
       "\n",
       "                          ...                     ConsumptionPerSurfaceArea  \\\n",
       "797228                    ...                                         0.360   \n",
       "797229                    ...                                         0.355   \n",
       "797230                    ...                                         2.510   \n",
       "797231                    ...                                         0.335   \n",
       "797232                    ...                                         0.330   \n",
       "\n",
       "        ConsumptionPerTemperatureDiff  ConsumptionDailyMeanPerSurfaceArea  \\\n",
       "797228                       3.383509                             0.49625   \n",
       "797229                       3.384350                             0.49625   \n",
       "797230                      23.758777                             0.49625   \n",
       "797231                       3.148543                             0.49625   \n",
       "797232                       3.123664                             0.49625   \n",
       "\n",
       "        ConsumptionDailyMeanPerTemperatureDiff  \\\n",
       "797228                                4.664073   \n",
       "797229                                4.730940   \n",
       "797230                                4.697328   \n",
       "797231                                4.664073   \n",
       "797232                                4.697328   \n",
       "\n",
       "        ConsumptionWeeklyMeanPerSurfaceArea  \\\n",
       "797228                             0.133073   \n",
       "797229                             0.133073   \n",
       "797230                             0.133073   \n",
       "797231                             0.133073   \n",
       "797232                             0.133073   \n",
       "\n",
       "        ConsumptionWeeklyMeanPerTemperatureDiff  \\\n",
       "797228                                 1.250704   \n",
       "797229                                 1.268635   \n",
       "797230                                 1.259621   \n",
       "797231                                 1.250704   \n",
       "797232                                 1.259621   \n",
       "\n",
       "        ConsumptionBiWeeklyMeanPerSurfaceArea  \\\n",
       "797228                               0.100208   \n",
       "797229                               0.100208   \n",
       "797230                               0.100208   \n",
       "797231                               0.100208   \n",
       "797232                               0.100208   \n",
       "\n",
       "        ConsumptionBiWeeklyMeanPerTemperatureDiff  \\\n",
       "797228                                   0.941822   \n",
       "797229                                   0.955324   \n",
       "797230                                   0.948537   \n",
       "797231                                   0.941822   \n",
       "797232                                   0.948537   \n",
       "\n",
       "        ConsumptionMonthlyMeanPerSurfaceArea  \\\n",
       "797228                              0.086917   \n",
       "797229                              0.086917   \n",
       "797230                              0.086917   \n",
       "797231                              0.086917   \n",
       "797232                              0.086917   \n",
       "\n",
       "        ConsumptionMonthlyMeanPerTemperatureDiff  \n",
       "797228                                  0.816898  \n",
       "797229                                  0.828610  \n",
       "797230                                  0.822723  \n",
       "797231                                  0.816898  \n",
       "797232                                  0.822723  \n",
       "\n",
       "[5 rows x 81 columns]"
      ]
     },
     "execution_count": 97,
     "metadata": {},
     "output_type": "execute_result"
    }
   ],
   "source": [
    "site_data = train_data.loc[train_data['SiteId'] == 34, :]\n",
    "site_data.head()"
   ]
  },
  {
   "cell_type": "code",
   "execution_count": 98,
   "metadata": {},
   "outputs": [],
   "source": [
    "x, y, groups = select_features(site_data, '900s')"
   ]
  },
  {
   "cell_type": "code",
   "execution_count": 99,
   "metadata": {},
   "outputs": [],
   "source": [
    "from xgboost import XGBRegressor\n",
    "\n",
    "regressor = XGBRegressor()"
   ]
  },
  {
   "cell_type": "code",
   "execution_count": 128,
   "metadata": {},
   "outputs": [
    {
     "data": {
      "text/plain": [
       "GridSearchCV(cv=8, error_score='raise',\n",
       "       estimator=XGBRegressor(base_score=0.5, booster='gbtree', colsample_bylevel=1,\n",
       "       colsample_bytree=1, gamma=0, learning_rate=0.1, max_delta_step=0,\n",
       "       max_depth=3, min_child_weight=1, missing=None, n_estimators=100,\n",
       "       n_jobs=1, nthread=None, objective='reg:linear', random_state=0,\n",
       "       reg_alpha=0, reg_lambda=1, scale_pos_weight=1, seed=None,\n",
       "       silent=True, subsample=1),\n",
       "       fit_params=None, iid=True, n_jobs=8,\n",
       "       param_grid={'learning_rate': [0.11], 'max_depth': [5], 'n_estimators': [20], 'colsample_bytree': [0.8], 'colsample_bylevel': [0.8], 'gamma': [0], 'reg_alpha': [1.4], 'reg_lambda': [1.2]},\n",
       "       pre_dispatch='2*n_jobs', refit=True, return_train_score='warn',\n",
       "       scoring='neg_mean_squared_error', verbose=0)"
      ]
     },
     "execution_count": 128,
     "metadata": {},
     "output_type": "execute_result"
    }
   ],
   "source": [
    "from sklearn.model_selection import GridSearchCV\n",
    "\n",
    "gs = GridSearchCV(regressor, {\n",
    "    'learning_rate': [0.11],\n",
    "    'max_depth': [5],\n",
    "    'n_estimators': [20],\n",
    "    'colsample_bytree': [0.8],\n",
    "    'colsample_bylevel': [0.8],\n",
    "    'gamma': [0],\n",
    "    'reg_alpha': [1.4],\n",
    "    'reg_lambda': [1.2]\n",
    "}, n_jobs=8, cv=8, scoring='neg_mean_squared_error')\n",
    "\n",
    "gs.fit(x, y)"
   ]
  },
  {
   "cell_type": "code",
   "execution_count": 129,
   "metadata": {},
   "outputs": [
    {
     "data": {
      "text/plain": [
       "{'colsample_bylevel': 0.8,\n",
       " 'colsample_bytree': 0.8,\n",
       " 'gamma': 0,\n",
       " 'learning_rate': 0.11,\n",
       " 'max_depth': 5,\n",
       " 'n_estimators': 20,\n",
       " 'reg_alpha': 1.4,\n",
       " 'reg_lambda': 1.2}"
      ]
     },
     "execution_count": 129,
     "metadata": {},
     "output_type": "execute_result"
    }
   ],
   "source": [
    "gs.best_params_"
   ]
  },
  {
   "cell_type": "code",
   "execution_count": 95,
   "metadata": {},
   "outputs": [
    {
     "data": {
      "text/plain": [
       "-498473204.5041989"
      ]
     },
     "execution_count": 95,
     "metadata": {},
     "output_type": "execute_result"
    }
   ],
   "source": [
    "gs.best_score_"
   ]
  }
 ],
 "metadata": {
  "kernelspec": {
   "display_name": "Python 3",
   "language": "python",
   "name": "python3"
  },
  "language_info": {
   "codemirror_mode": {
    "name": "ipython",
    "version": 3
   },
   "file_extension": ".py",
   "mimetype": "text/x-python",
   "name": "python",
   "nbconvert_exporter": "python",
   "pygments_lexer": "ipython3",
   "version": "3.6.4"
  }
 },
 "nbformat": 4,
 "nbformat_minor": 2
}
