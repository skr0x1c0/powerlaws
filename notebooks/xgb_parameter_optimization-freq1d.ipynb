{
 "cells": [
  {
   "cell_type": "code",
   "execution_count": 1,
   "metadata": {},
   "outputs": [],
   "source": [
    "import os\n",
    "import sys\n",
    "\n",
    "sys.path.insert(0, '../')"
   ]
  },
  {
   "cell_type": "code",
   "execution_count": 2,
   "metadata": {},
   "outputs": [
    {
     "name": "stderr",
     "output_type": "stream",
     "text": [
      "/Users/sreejithkrishnanr/Tools/anaconda3/lib/python3.6/site-packages/h5py/__init__.py:36: FutureWarning: Conversion of the second argument of issubdtype from `float` to `np.floating` is deprecated. In future, it will be treated as `np.float64 == np.dtype(float).type`.\n",
      "  from ._conv import register_converters as _register_converters\n",
      "Using TensorFlow backend.\n"
     ]
    }
   ],
   "source": [
    "import pandas as pd\n",
    "import numpy as np\n",
    "\n",
    "from src.models.model_common import select_features"
   ]
  },
  {
   "cell_type": "code",
   "execution_count": 3,
   "metadata": {},
   "outputs": [],
   "source": [
    "train_data = pd.read_hdf('../data/processed/train_86400000000000.hd5', \"data\", parse_dates=[1])"
   ]
  },
  {
   "cell_type": "code",
   "execution_count": 4,
   "metadata": {},
   "outputs": [
    {
     "data": {
      "text/html": [
       "<div>\n",
       "<style scoped>\n",
       "    .dataframe tbody tr th:only-of-type {\n",
       "        vertical-align: middle;\n",
       "    }\n",
       "\n",
       "    .dataframe tbody tr th {\n",
       "        vertical-align: top;\n",
       "    }\n",
       "\n",
       "    .dataframe thead th {\n",
       "        text-align: right;\n",
       "    }\n",
       "</style>\n",
       "<table border=\"1\" class=\"dataframe\">\n",
       "  <thead>\n",
       "    <tr style=\"text-align: right;\">\n",
       "      <th></th>\n",
       "      <th>ForecastId</th>\n",
       "      <th>Timestamp</th>\n",
       "      <th>obs_id</th>\n",
       "      <th>SiteId</th>\n",
       "      <th>Value</th>\n",
       "      <th>Frequency</th>\n",
       "      <th>DayOfMonth</th>\n",
       "      <th>DayOfWeek</th>\n",
       "      <th>DayOfYear</th>\n",
       "      <th>DaysInMonth</th>\n",
       "      <th>...</th>\n",
       "      <th>ConsumptionBiWeeklyMean</th>\n",
       "      <th>ConsumptionMonthlyMean</th>\n",
       "      <th>ConsumptionDailyMeanPerSurfaceArea</th>\n",
       "      <th>ConsumptionDailyMeanPerTemperatureDiff</th>\n",
       "      <th>ConsumptionWeeklyMeanPerSurfaceArea</th>\n",
       "      <th>ConsumptionWeeklyMeanPerTemperatureDiff</th>\n",
       "      <th>ConsumptionBiWeeklyMeanPerSurfaceArea</th>\n",
       "      <th>ConsumptionBiWeeklyMeanPerTemperatureDiff</th>\n",
       "      <th>ConsumptionMonthlyMeanPerSurfaceArea</th>\n",
       "      <th>ConsumptionMonthlyMeanPerTemperatureDiff</th>\n",
       "    </tr>\n",
       "  </thead>\n",
       "  <tbody>\n",
       "    <tr>\n",
       "      <th>900</th>\n",
       "      <td>41</td>\n",
       "      <td>2013-01-02</td>\n",
       "      <td>6330712</td>\n",
       "      <td>3</td>\n",
       "      <td>3.207035e+05</td>\n",
       "      <td>8.640000e+13</td>\n",
       "      <td>2</td>\n",
       "      <td>2</td>\n",
       "      <td>2</td>\n",
       "      <td>31</td>\n",
       "      <td>...</td>\n",
       "      <td>5.488345e+06</td>\n",
       "      <td>6.327091e+06</td>\n",
       "      <td>30.380316</td>\n",
       "      <td>1.909459e+05</td>\n",
       "      <td>308.437493</td>\n",
       "      <td>1.938587e+06</td>\n",
       "      <td>519.912168</td>\n",
       "      <td>3.267745e+06</td>\n",
       "      <td>599.366672</td>\n",
       "      <td>3.767131e+06</td>\n",
       "    </tr>\n",
       "    <tr>\n",
       "      <th>901</th>\n",
       "      <td>41</td>\n",
       "      <td>2013-01-03</td>\n",
       "      <td>853183</td>\n",
       "      <td>3</td>\n",
       "      <td>8.787556e+05</td>\n",
       "      <td>8.640000e+13</td>\n",
       "      <td>3</td>\n",
       "      <td>3</td>\n",
       "      <td>3</td>\n",
       "      <td>31</td>\n",
       "      <td>...</td>\n",
       "      <td>5.488345e+06</td>\n",
       "      <td>6.327091e+06</td>\n",
       "      <td>30.380316</td>\n",
       "      <td>7.046004e+05</td>\n",
       "      <td>308.437493</td>\n",
       "      <td>7.153487e+06</td>\n",
       "      <td>519.912168</td>\n",
       "      <td>1.205815e+07</td>\n",
       "      <td>599.366672</td>\n",
       "      <td>1.390091e+07</td>\n",
       "    </tr>\n",
       "    <tr>\n",
       "      <th>902</th>\n",
       "      <td>41</td>\n",
       "      <td>2013-01-04</td>\n",
       "      <td>5568758</td>\n",
       "      <td>3</td>\n",
       "      <td>1.037190e+06</td>\n",
       "      <td>8.640000e+13</td>\n",
       "      <td>4</td>\n",
       "      <td>4</td>\n",
       "      <td>4</td>\n",
       "      <td>31</td>\n",
       "      <td>...</td>\n",
       "      <td>5.488345e+06</td>\n",
       "      <td>6.327091e+06</td>\n",
       "      <td>83.244714</td>\n",
       "      <td>3.576392e+06</td>\n",
       "      <td>308.437493</td>\n",
       "      <td>1.325121e+07</td>\n",
       "      <td>519.912168</td>\n",
       "      <td>2.233667e+07</td>\n",
       "      <td>599.366672</td>\n",
       "      <td>2.575023e+07</td>\n",
       "    </tr>\n",
       "    <tr>\n",
       "      <th>903</th>\n",
       "      <td>41</td>\n",
       "      <td>2013-01-05</td>\n",
       "      <td>3772665</td>\n",
       "      <td>3</td>\n",
       "      <td>7.726745e+05</td>\n",
       "      <td>8.640000e+13</td>\n",
       "      <td>5</td>\n",
       "      <td>5</td>\n",
       "      <td>5</td>\n",
       "      <td>31</td>\n",
       "      <td>...</td>\n",
       "      <td>5.488345e+06</td>\n",
       "      <td>6.327091e+06</td>\n",
       "      <td>98.253220</td>\n",
       "      <td>3.620926e+06</td>\n",
       "      <td>308.437493</td>\n",
       "      <td>1.136685e+07</td>\n",
       "      <td>519.912168</td>\n",
       "      <td>1.916032e+07</td>\n",
       "      <td>599.366672</td>\n",
       "      <td>2.208846e+07</td>\n",
       "    </tr>\n",
       "    <tr>\n",
       "      <th>904</th>\n",
       "      <td>41</td>\n",
       "      <td>2013-01-06</td>\n",
       "      <td>5249102</td>\n",
       "      <td>3</td>\n",
       "      <td>1.274910e+06</td>\n",
       "      <td>8.640000e+13</td>\n",
       "      <td>6</td>\n",
       "      <td>6</td>\n",
       "      <td>6</td>\n",
       "      <td>31</td>\n",
       "      <td>...</td>\n",
       "      <td>5.488345e+06</td>\n",
       "      <td>6.327091e+06</td>\n",
       "      <td>73.195626</td>\n",
       "      <td>1.439335e+06</td>\n",
       "      <td>308.437493</td>\n",
       "      <td>6.065184e+06</td>\n",
       "      <td>519.912168</td>\n",
       "      <td>1.022367e+07</td>\n",
       "      <td>599.366672</td>\n",
       "      <td>1.178608e+07</td>\n",
       "    </tr>\n",
       "  </tbody>\n",
       "</table>\n",
       "<p>5 rows × 141 columns</p>\n",
       "</div>"
      ],
      "text/plain": [
       "     ForecastId  Timestamp   obs_id  SiteId         Value     Frequency  \\\n",
       "900          41 2013-01-02  6330712       3  3.207035e+05  8.640000e+13   \n",
       "901          41 2013-01-03   853183       3  8.787556e+05  8.640000e+13   \n",
       "902          41 2013-01-04  5568758       3  1.037190e+06  8.640000e+13   \n",
       "903          41 2013-01-05  3772665       3  7.726745e+05  8.640000e+13   \n",
       "904          41 2013-01-06  5249102       3  1.274910e+06  8.640000e+13   \n",
       "\n",
       "     DayOfMonth  DayOfWeek  DayOfYear  DaysInMonth  \\\n",
       "900           2          2          2           31   \n",
       "901           3          3          3           31   \n",
       "902           4          4          4           31   \n",
       "903           5          5          5           31   \n",
       "904           6          6          6           31   \n",
       "\n",
       "                       ...                     ConsumptionBiWeeklyMean  \\\n",
       "900                    ...                                5.488345e+06   \n",
       "901                    ...                                5.488345e+06   \n",
       "902                    ...                                5.488345e+06   \n",
       "903                    ...                                5.488345e+06   \n",
       "904                    ...                                5.488345e+06   \n",
       "\n",
       "     ConsumptionMonthlyMean  ConsumptionDailyMeanPerSurfaceArea  \\\n",
       "900            6.327091e+06                           30.380316   \n",
       "901            6.327091e+06                           30.380316   \n",
       "902            6.327091e+06                           83.244714   \n",
       "903            6.327091e+06                           98.253220   \n",
       "904            6.327091e+06                           73.195626   \n",
       "\n",
       "     ConsumptionDailyMeanPerTemperatureDiff  \\\n",
       "900                            1.909459e+05   \n",
       "901                            7.046004e+05   \n",
       "902                            3.576392e+06   \n",
       "903                            3.620926e+06   \n",
       "904                            1.439335e+06   \n",
       "\n",
       "     ConsumptionWeeklyMeanPerSurfaceArea  \\\n",
       "900                           308.437493   \n",
       "901                           308.437493   \n",
       "902                           308.437493   \n",
       "903                           308.437493   \n",
       "904                           308.437493   \n",
       "\n",
       "     ConsumptionWeeklyMeanPerTemperatureDiff  \\\n",
       "900                             1.938587e+06   \n",
       "901                             7.153487e+06   \n",
       "902                             1.325121e+07   \n",
       "903                             1.136685e+07   \n",
       "904                             6.065184e+06   \n",
       "\n",
       "     ConsumptionBiWeeklyMeanPerSurfaceArea  \\\n",
       "900                             519.912168   \n",
       "901                             519.912168   \n",
       "902                             519.912168   \n",
       "903                             519.912168   \n",
       "904                             519.912168   \n",
       "\n",
       "     ConsumptionBiWeeklyMeanPerTemperatureDiff  \\\n",
       "900                               3.267745e+06   \n",
       "901                               1.205815e+07   \n",
       "902                               2.233667e+07   \n",
       "903                               1.916032e+07   \n",
       "904                               1.022367e+07   \n",
       "\n",
       "     ConsumptionMonthlyMeanPerSurfaceArea  \\\n",
       "900                            599.366672   \n",
       "901                            599.366672   \n",
       "902                            599.366672   \n",
       "903                            599.366672   \n",
       "904                            599.366672   \n",
       "\n",
       "     ConsumptionMonthlyMeanPerTemperatureDiff  \n",
       "900                              3.767131e+06  \n",
       "901                              1.390091e+07  \n",
       "902                              2.575023e+07  \n",
       "903                              2.208846e+07  \n",
       "904                              1.178608e+07  \n",
       "\n",
       "[5 rows x 141 columns]"
      ]
     },
     "execution_count": 4,
     "metadata": {},
     "output_type": "execute_result"
    }
   ],
   "source": [
    "site_data = train_data.loc[train_data['SiteId'] == 3, :]\n",
    "site_data.head()"
   ]
  },
  {
   "cell_type": "code",
   "execution_count": 6,
   "metadata": {},
   "outputs": [],
   "source": [
    "x, y, groups, ts = select_features(site_data, 'D')"
   ]
  },
  {
   "cell_type": "code",
   "execution_count": 7,
   "metadata": {},
   "outputs": [],
   "source": [
    "from xgboost import XGBRegressor\n",
    "\n",
    "regressor = XGBRegressor()"
   ]
  },
  {
   "cell_type": "code",
   "execution_count": 46,
   "metadata": {},
   "outputs": [
    {
     "data": {
      "text/plain": [
       "GridSearchCV(cv=8, error_score='raise',\n",
       "       estimator=XGBRegressor(base_score=0.5, booster='gbtree', colsample_bylevel=1,\n",
       "       colsample_bytree=1, gamma=0, learning_rate=0.1, max_delta_step=0,\n",
       "       max_depth=3, min_child_weight=1, missing=None, n_estimators=100,\n",
       "       n_jobs=1, nthread=None, objective='reg:linear', random_state=0,\n",
       "       reg_alpha=0, reg_lambda=1, scale_pos_weight=1, seed=None,\n",
       "       silent=True, subsample=1),\n",
       "       fit_params=None, iid=True, n_jobs=8,\n",
       "       param_grid={'learning_rate': [0.12], 'max_depth': [4], 'n_estimators': [100], 'colsample_bytree': [0.5], 'colsample_bylevel': [0.6], 'gamma': [0], 'reg_alpha': [1, 1.1, 1.2, 1.3], 'reg_lambda': [1, 1.1, 1.2, 1.3]},\n",
       "       pre_dispatch='2*n_jobs', refit=True, return_train_score='warn',\n",
       "       scoring='neg_mean_squared_error', verbose=0)"
      ]
     },
     "execution_count": 46,
     "metadata": {},
     "output_type": "execute_result"
    }
   ],
   "source": [
    "from sklearn.model_selection import GridSearchCV\n",
    "\n",
    "gs = GridSearchCV(regressor, {\n",
    "    'learning_rate': [0.12],\n",
    "    'max_depth': [4],\n",
    "    'n_estimators': [100],\n",
    "    'colsample_bytree': [0.5],\n",
    "    'colsample_bylevel': [0.6],\n",
    "    'gamma': [0],\n",
    "    'reg_alpha': [1, 1.1, 1.2, 1.3],\n",
    "    'reg_lambda': [1, 1.1, 1.2, 1.3]\n",
    "}, n_jobs=8, cv=8, scoring='neg_mean_squared_error')\n",
    "\n",
    "gs.fit(x, y)"
   ]
  },
  {
   "cell_type": "code",
   "execution_count": 45,
   "metadata": {},
   "outputs": [
    {
     "data": {
      "text/plain": [
       "{'colsample_bylevel': 0.6,\n",
       " 'colsample_bytree': 0.5,\n",
       " 'gamma': 0,\n",
       " 'learning_rate': 0.12,\n",
       " 'max_depth': 4,\n",
       " 'n_estimators': 100,\n",
       " 'reg_alpha': 1,\n",
       " 'reg_lambda': 1.1}"
      ]
     },
     "execution_count": 45,
     "metadata": {},
     "output_type": "execute_result"
    }
   ],
   "source": [
    "gs.best_params_"
   ]
  },
  {
   "cell_type": "code",
   "execution_count": 41,
   "metadata": {},
   "outputs": [
    {
     "data": {
      "text/plain": [
       "-3326222323546.479"
      ]
     },
     "execution_count": 41,
     "metadata": {},
     "output_type": "execute_result"
    }
   ],
   "source": [
    "gs.best_score_"
   ]
  }
 ],
 "metadata": {
  "kernelspec": {
   "display_name": "Python 3",
   "language": "python",
   "name": "python3"
  },
  "language_info": {
   "codemirror_mode": {
    "name": "ipython",
    "version": 3
   },
   "file_extension": ".py",
   "mimetype": "text/x-python",
   "name": "python",
   "nbconvert_exporter": "python",
   "pygments_lexer": "ipython3",
   "version": "3.6.4"
  }
 },
 "nbformat": 4,
 "nbformat_minor": 2
}
