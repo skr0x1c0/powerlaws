{
 "cells": [
  {
   "cell_type": "code",
   "execution_count": 1,
   "metadata": {},
   "outputs": [],
   "source": [
    "import os\n",
    "import sys\n",
    "\n",
    "sys.path.insert(0, '../')"
   ]
  },
  {
   "cell_type": "code",
   "execution_count": 2,
   "metadata": {},
   "outputs": [
    {
     "name": "stderr",
     "output_type": "stream",
     "text": [
      "/Users/sreejithkrishnanr/Tools/anaconda3/lib/python3.6/site-packages/h5py/__init__.py:36: FutureWarning: Conversion of the second argument of issubdtype from `float` to `np.floating` is deprecated. In future, it will be treated as `np.float64 == np.dtype(float).type`.\n",
      "  from ._conv import register_converters as _register_converters\n",
      "Using TensorFlow backend.\n"
     ]
    }
   ],
   "source": [
    "import pandas as pd\n",
    "import numpy as np\n",
    "\n",
    "from src.models.model_common import select_features"
   ]
  },
  {
   "cell_type": "code",
   "execution_count": 4,
   "metadata": {},
   "outputs": [],
   "source": [
    "train_data = pd.read_hdf('../data/processed/train_3600000000000.hd5', 'data', parse_dates=[1])"
   ]
  },
  {
   "cell_type": "code",
   "execution_count": 5,
   "metadata": {},
   "outputs": [
    {
     "data": {
      "text/html": [
       "<div>\n",
       "<style scoped>\n",
       "    .dataframe tbody tr th:only-of-type {\n",
       "        vertical-align: middle;\n",
       "    }\n",
       "\n",
       "    .dataframe tbody tr th {\n",
       "        vertical-align: top;\n",
       "    }\n",
       "\n",
       "    .dataframe thead th {\n",
       "        text-align: right;\n",
       "    }\n",
       "</style>\n",
       "<table border=\"1\" class=\"dataframe\">\n",
       "  <thead>\n",
       "    <tr style=\"text-align: right;\">\n",
       "      <th></th>\n",
       "      <th>ForecastId</th>\n",
       "      <th>Timestamp</th>\n",
       "      <th>obs_id</th>\n",
       "      <th>SiteId</th>\n",
       "      <th>Value</th>\n",
       "      <th>Frequency</th>\n",
       "      <th>DayOfMonth</th>\n",
       "      <th>DayOfWeek</th>\n",
       "      <th>DayOfYear</th>\n",
       "      <th>DaysInMonth</th>\n",
       "      <th>...</th>\n",
       "      <th>ConsumptionPerSurfaceArea</th>\n",
       "      <th>ConsumptionPerTemperatureDiff</th>\n",
       "      <th>ConsumptionDailyMeanPerSurfaceArea</th>\n",
       "      <th>ConsumptionDailyMeanPerTemperatureDiff</th>\n",
       "      <th>ConsumptionWeeklyMeanPerSurfaceArea</th>\n",
       "      <th>ConsumptionWeeklyMeanPerTemperatureDiff</th>\n",
       "      <th>ConsumptionBiWeeklyMeanPerSurfaceArea</th>\n",
       "      <th>ConsumptionBiWeeklyMeanPerTemperatureDiff</th>\n",
       "      <th>ConsumptionMonthlyMeanPerSurfaceArea</th>\n",
       "      <th>ConsumptionMonthlyMeanPerTemperatureDiff</th>\n",
       "    </tr>\n",
       "  </thead>\n",
       "  <tbody>\n",
       "    <tr>\n",
       "      <th>0</th>\n",
       "      <td>5</td>\n",
       "      <td>2013-01-01 01:00:00</td>\n",
       "      <td>4382312</td>\n",
       "      <td>2</td>\n",
       "      <td>30159.963708</td>\n",
       "      <td>3.600000e+12</td>\n",
       "      <td>1</td>\n",
       "      <td>1</td>\n",
       "      <td>1</td>\n",
       "      <td>31</td>\n",
       "      <td>...</td>\n",
       "      <td>4.945652</td>\n",
       "      <td>93.086308</td>\n",
       "      <td>7.071668</td>\n",
       "      <td>133.101861</td>\n",
       "      <td>13.777236</td>\n",
       "      <td>259.313025</td>\n",
       "      <td>14.116082</td>\n",
       "      <td>265.69073</td>\n",
       "      <td>14.529086</td>\n",
       "      <td>273.464223</td>\n",
       "    </tr>\n",
       "    <tr>\n",
       "      <th>1</th>\n",
       "      <td>5</td>\n",
       "      <td>2013-01-01 02:00:00</td>\n",
       "      <td>2016541</td>\n",
       "      <td>2</td>\n",
       "      <td>29793.536720</td>\n",
       "      <td>3.600000e+12</td>\n",
       "      <td>1</td>\n",
       "      <td>1</td>\n",
       "      <td>1</td>\n",
       "      <td>31</td>\n",
       "      <td>...</td>\n",
       "      <td>4.885565</td>\n",
       "      <td>91.955360</td>\n",
       "      <td>7.071668</td>\n",
       "      <td>133.101861</td>\n",
       "      <td>13.777236</td>\n",
       "      <td>259.313025</td>\n",
       "      <td>14.116082</td>\n",
       "      <td>265.69073</td>\n",
       "      <td>14.529086</td>\n",
       "      <td>273.464223</td>\n",
       "    </tr>\n",
       "    <tr>\n",
       "      <th>2</th>\n",
       "      <td>5</td>\n",
       "      <td>2013-01-01 03:00:00</td>\n",
       "      <td>78869</td>\n",
       "      <td>2</td>\n",
       "      <td>31682.412161</td>\n",
       "      <td>3.600000e+12</td>\n",
       "      <td>1</td>\n",
       "      <td>1</td>\n",
       "      <td>1</td>\n",
       "      <td>31</td>\n",
       "      <td>...</td>\n",
       "      <td>5.195304</td>\n",
       "      <td>97.785223</td>\n",
       "      <td>7.071668</td>\n",
       "      <td>133.101861</td>\n",
       "      <td>13.777236</td>\n",
       "      <td>259.313025</td>\n",
       "      <td>14.116082</td>\n",
       "      <td>265.69073</td>\n",
       "      <td>14.529086</td>\n",
       "      <td>273.464223</td>\n",
       "    </tr>\n",
       "    <tr>\n",
       "      <th>3</th>\n",
       "      <td>5</td>\n",
       "      <td>2013-01-01 04:00:00</td>\n",
       "      <td>1361014</td>\n",
       "      <td>2</td>\n",
       "      <td>29881.829185</td>\n",
       "      <td>3.600000e+12</td>\n",
       "      <td>1</td>\n",
       "      <td>1</td>\n",
       "      <td>1</td>\n",
       "      <td>31</td>\n",
       "      <td>...</td>\n",
       "      <td>4.900043</td>\n",
       "      <td>92.227868</td>\n",
       "      <td>7.071668</td>\n",
       "      <td>133.101861</td>\n",
       "      <td>13.777236</td>\n",
       "      <td>259.313025</td>\n",
       "      <td>14.116082</td>\n",
       "      <td>265.69073</td>\n",
       "      <td>14.529086</td>\n",
       "      <td>273.464223</td>\n",
       "    </tr>\n",
       "    <tr>\n",
       "      <th>4</th>\n",
       "      <td>5</td>\n",
       "      <td>2013-01-01 05:00:00</td>\n",
       "      <td>129169</td>\n",
       "      <td>2</td>\n",
       "      <td>30560.328940</td>\n",
       "      <td>3.600000e+12</td>\n",
       "      <td>1</td>\n",
       "      <td>1</td>\n",
       "      <td>1</td>\n",
       "      <td>31</td>\n",
       "      <td>...</td>\n",
       "      <td>5.011304</td>\n",
       "      <td>94.322003</td>\n",
       "      <td>7.071668</td>\n",
       "      <td>133.101861</td>\n",
       "      <td>13.777236</td>\n",
       "      <td>259.313025</td>\n",
       "      <td>14.116082</td>\n",
       "      <td>265.69073</td>\n",
       "      <td>14.529086</td>\n",
       "      <td>273.464223</td>\n",
       "    </tr>\n",
       "  </tbody>\n",
       "</table>\n",
       "<p>5 rows × 97 columns</p>\n",
       "</div>"
      ],
      "text/plain": [
       "   ForecastId           Timestamp   obs_id  SiteId         Value  \\\n",
       "0           5 2013-01-01 01:00:00  4382312       2  30159.963708   \n",
       "1           5 2013-01-01 02:00:00  2016541       2  29793.536720   \n",
       "2           5 2013-01-01 03:00:00    78869       2  31682.412161   \n",
       "3           5 2013-01-01 04:00:00  1361014       2  29881.829185   \n",
       "4           5 2013-01-01 05:00:00   129169       2  30560.328940   \n",
       "\n",
       "      Frequency  DayOfMonth  DayOfWeek  DayOfYear  DaysInMonth  \\\n",
       "0  3.600000e+12           1          1          1           31   \n",
       "1  3.600000e+12           1          1          1           31   \n",
       "2  3.600000e+12           1          1          1           31   \n",
       "3  3.600000e+12           1          1          1           31   \n",
       "4  3.600000e+12           1          1          1           31   \n",
       "\n",
       "                     ...                     ConsumptionPerSurfaceArea  \\\n",
       "0                    ...                                      4.945652   \n",
       "1                    ...                                      4.885565   \n",
       "2                    ...                                      5.195304   \n",
       "3                    ...                                      4.900043   \n",
       "4                    ...                                      5.011304   \n",
       "\n",
       "   ConsumptionPerTemperatureDiff  ConsumptionDailyMeanPerSurfaceArea  \\\n",
       "0                      93.086308                            7.071668   \n",
       "1                      91.955360                            7.071668   \n",
       "2                      97.785223                            7.071668   \n",
       "3                      92.227868                            7.071668   \n",
       "4                      94.322003                            7.071668   \n",
       "\n",
       "   ConsumptionDailyMeanPerTemperatureDiff  \\\n",
       "0                              133.101861   \n",
       "1                              133.101861   \n",
       "2                              133.101861   \n",
       "3                              133.101861   \n",
       "4                              133.101861   \n",
       "\n",
       "   ConsumptionWeeklyMeanPerSurfaceArea  \\\n",
       "0                            13.777236   \n",
       "1                            13.777236   \n",
       "2                            13.777236   \n",
       "3                            13.777236   \n",
       "4                            13.777236   \n",
       "\n",
       "   ConsumptionWeeklyMeanPerTemperatureDiff  \\\n",
       "0                               259.313025   \n",
       "1                               259.313025   \n",
       "2                               259.313025   \n",
       "3                               259.313025   \n",
       "4                               259.313025   \n",
       "\n",
       "   ConsumptionBiWeeklyMeanPerSurfaceArea  \\\n",
       "0                              14.116082   \n",
       "1                              14.116082   \n",
       "2                              14.116082   \n",
       "3                              14.116082   \n",
       "4                              14.116082   \n",
       "\n",
       "   ConsumptionBiWeeklyMeanPerTemperatureDiff  \\\n",
       "0                                  265.69073   \n",
       "1                                  265.69073   \n",
       "2                                  265.69073   \n",
       "3                                  265.69073   \n",
       "4                                  265.69073   \n",
       "\n",
       "   ConsumptionMonthlyMeanPerSurfaceArea  \\\n",
       "0                             14.529086   \n",
       "1                             14.529086   \n",
       "2                             14.529086   \n",
       "3                             14.529086   \n",
       "4                             14.529086   \n",
       "\n",
       "   ConsumptionMonthlyMeanPerTemperatureDiff  \n",
       "0                                273.464223  \n",
       "1                                273.464223  \n",
       "2                                273.464223  \n",
       "3                                273.464223  \n",
       "4                                273.464223  \n",
       "\n",
       "[5 rows x 97 columns]"
      ]
     },
     "execution_count": 5,
     "metadata": {},
     "output_type": "execute_result"
    }
   ],
   "source": [
    "site_data = train_data.loc[train_data['SiteId'] == 2, :]\n",
    "site_data.head()"
   ]
  },
  {
   "cell_type": "code",
   "execution_count": null,
   "metadata": {},
   "outputs": [],
   "source": [
    "def create_lagged(x, y, groups, num_lags=24):\n",
    "    fids = groups.groupby('ForecastId')['ForecastId'].first().values\n",
    "    \n",
    "    for fid in fids:\n",
    "        x_f = x.loc[groups == fid, :]\n",
    "        y_f = y.loc[groups == fid]\n",
    "        "
   ]
  },
  {
   "cell_type": "code",
   "execution_count": 6,
   "metadata": {},
   "outputs": [],
   "source": [
    "x, y, groups = select_features(site_data, 'h')"
   ]
  },
  {
   "cell_type": "code",
   "execution_count": 10,
   "metadata": {},
   "outputs": [
    {
     "data": {
      "text/plain": [
       "31    964\n",
       "30    964\n",
       "11    964\n",
       "10    964\n",
       "9     964\n",
       "40    964\n",
       "8     964\n",
       "39    964\n",
       "7     964\n",
       "38    964\n",
       "6     964\n",
       "37    964\n",
       "5     964\n",
       "36    964\n",
       "35    964\n",
       "34    964\n",
       "33    964\n",
       "12    964\n",
       "13    964\n",
       "14    964\n",
       "23    964\n",
       "29    964\n",
       "28    964\n",
       "27    964\n",
       "26    964\n",
       "25    964\n",
       "24    964\n",
       "22    964\n",
       "15    964\n",
       "21    964\n",
       "20    964\n",
       "19    964\n",
       "18    964\n",
       "17    964\n",
       "16    964\n",
       "32    964\n",
       "Name: ForecastId, dtype: int64"
      ]
     },
     "execution_count": 10,
     "metadata": {},
     "output_type": "execute_result"
    }
   ],
   "source": [
    "groups.value_counts()"
   ]
  },
  {
   "cell_type": "code",
   "execution_count": 12,
   "metadata": {},
   "outputs": [],
   "source": [
    "from xgboost import XGBRegressor\n",
    "\n",
    "regressor = XGBRegressor()"
   ]
  },
  {
   "cell_type": "code",
   "execution_count": 13,
   "metadata": {},
   "outputs": [
    {
     "data": {
      "text/plain": [
       "GridSearchCV(cv=8, error_score='raise',\n",
       "       estimator=XGBRegressor(base_score=0.5, booster='gbtree', colsample_bylevel=1,\n",
       "       colsample_bytree=1, gamma=0, learning_rate=0.1, max_delta_step=0,\n",
       "       max_depth=3, min_child_weight=1, missing=None, n_estimators=100,\n",
       "       n_jobs=1, nthread=None, objective='reg:linear', random_state=0,\n",
       "       reg_alpha=0, reg_lambda=1, scale_pos_weight=1, seed=None,\n",
       "       silent=True, subsample=1),\n",
       "       fit_params=None, iid=True, n_jobs=8,\n",
       "       param_grid={'learning_rate': [0.1], 'max_depth': [4], 'n_estimators': [75], 'colsample_bytree': [0.8], 'colsample_bylevel': [0.7], 'gamma': [0], 'reg_alpha': [1.2], 'reg_lambda': [1.2]},\n",
       "       pre_dispatch='2*n_jobs', refit=True, return_train_score='warn',\n",
       "       scoring='neg_mean_squared_error', verbose=0)"
      ]
     },
     "execution_count": 13,
     "metadata": {},
     "output_type": "execute_result"
    }
   ],
   "source": [
    "from sklearn.model_selection import GridSearchCV\n",
    "\n",
    "gs = GridSearchCV(regressor, {\n",
    "    'learning_rate': [0.10],\n",
    "    'max_depth': [4],\n",
    "    'n_estimators': [75],\n",
    "    'colsample_bytree': [0.8],\n",
    "    'colsample_bylevel': [0.7],\n",
    "    'gamma': [0],\n",
    "    'reg_alpha': [1.2],\n",
    "    'reg_lambda': [1.2]\n",
    "}, n_jobs=8, cv=8, scoring='neg_mean_squared_error')\n",
    "\n",
    "gs.fit(x, y)"
   ]
  },
  {
   "cell_type": "code",
   "execution_count": 11,
   "metadata": {},
   "outputs": [
    {
     "data": {
      "text/plain": [
       "{'colsample_bylevel': 0.7,\n",
       " 'colsample_bytree': 0.8,\n",
       " 'gamma': 0,\n",
       " 'learning_rate': 0.1,\n",
       " 'max_depth': 4,\n",
       " 'n_estimators': 75,\n",
       " 'reg_alpha': 1.2,\n",
       " 'reg_lambda': 1.2}"
      ]
     },
     "execution_count": 11,
     "metadata": {},
     "output_type": "execute_result"
    }
   ],
   "source": [
    "gs.best_params_"
   ]
  },
  {
   "cell_type": "code",
   "execution_count": 15,
   "metadata": {},
   "outputs": [
    {
     "data": {
      "text/plain": [
       "-518270729.12947804"
      ]
     },
     "execution_count": 15,
     "metadata": {},
     "output_type": "execute_result"
    }
   ],
   "source": [
    "gs.best_score_"
   ]
  }
 ],
 "metadata": {
  "kernelspec": {
   "display_name": "Python 3",
   "language": "python",
   "name": "python3"
  },
  "language_info": {
   "codemirror_mode": {
    "name": "ipython",
    "version": 3
   },
   "file_extension": ".py",
   "mimetype": "text/x-python",
   "name": "python",
   "nbconvert_exporter": "python",
   "pygments_lexer": "ipython3",
   "version": "3.6.4"
  }
 },
 "nbformat": 4,
 "nbformat_minor": 2
}
